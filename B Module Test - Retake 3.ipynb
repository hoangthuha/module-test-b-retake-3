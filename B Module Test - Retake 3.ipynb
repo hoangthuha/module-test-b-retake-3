{
 "cells": [
  {
   "cell_type": "markdown",
   "metadata": {},
   "source": [
    "# B | Module Test"
   ]
  },
  {
   "cell_type": "markdown",
   "metadata": {},
   "source": [
    "<!-- BEGIN QUESTION -->\n",
    "\n",
    "## Part I&nbsp;&nbsp;&nbsp;&nbsp;&nbsp;&nbsp;(10 Points)"
   ]
  },
  {
   "cell_type": "raw",
   "metadata": {
    "tags": []
   },
   "source": [
    "# Write your shell commands here\n",
    "\n",
    "git clone https://github.com/hoangthuha/module-test-b-retake-3.git\n",
    "cd module-test-b-retake-3/\n",
    "mkdir test\n",
    "touch test/moduleB\n",
    "git add .\n",
    "git commit -m \"first commit\"\n",
    "git push\n"
   ]
  },
  {
   "cell_type": "markdown",
   "metadata": {},
   "source": [
    "Your solution to this question should **also** include file, submitted alongside this notebook."
   ]
  },
  {
   "cell_type": "markdown",
   "metadata": {},
   "source": [
    "<!-- BEGIN QUESTION -->\n",
    "\n",
    "## Part II&nbsp;&nbsp;&nbsp;&nbsp;&nbsp;&nbsp;(10 Points)"
   ]
  },
  {
   "cell_type": "markdown",
   "metadata": {
    "tags": []
   },
   "source": [
    "Your solution to this question should be a file, submitted alongside this notebook."
   ]
  },
  {
   "cell_type": "markdown",
   "metadata": {},
   "source": [
    "<!-- END QUESTION -->\n",
    "\n",
    "<!-- BEGIN QUESTION -->\n",
    "\n",
    "## Part III&nbsp;&nbsp;&nbsp;&nbsp;&nbsp;&nbsp;(30 Points)"
   ]
  },
  {
   "cell_type": "raw",
   "metadata": {
    "tags": []
   },
   "source": [
    "# Write your test cases and comments here\n",
    "\n",
    "# test case 1: normal test case\n",
    "a = 5\n",
    "b = 10\n",
    "\n",
    "# test case 2: edge test case, test what happen if n = a = 0\n",
    "n = 0\n",
    "a = 0\n",
    "\n",
    "# test case 3: unintended test case, test what happen if n < a\n",
    "n = 2\n",
    "a = 5\n",
    "\n"
   ]
  },
  {
   "cell_type": "raw",
   "metadata": {
    "tags": []
   },
   "source": [
    "# Write the fixed code here\n",
    "import pdb\n",
    "a=5\n",
    "b=7\n",
    "\n",
    "product = 1\n",
    "i = a\n",
    "while i<b:\n",
    "    pdb.set_trace()\n",
    "    if i%2 == 0:\n",
    "        product *= i\n",
    "    i+=1\n",
    "print(product)\n"
   ]
  },
  {
   "cell_type": "markdown",
   "metadata": {},
   "source": [
    "Write your debugging steps here\n",
    "> <ipython-input-1-77e1b3316eb4>(10)<module>()\n",
    "      8 while i<b:\n",
    "      9     pdb.set_trace()\n",
    "---> 10     if i%2 == 0:\n",
    "     11         product *= i\n",
    "     12     i+=1\n",
    "\n",
    "ipdb> n\n",
    "> <ipython-input-1-77e1b3316eb4>(12)<module>()\n",
    "      9     pdb.set_trace()\n",
    "     10     if i%2 == 0:\n",
    "     11         product *= i\n",
    "---> 12     i+=1\n",
    "     13 print(product)\n",
    "\n",
    "ipdb> n\n",
    "> <ipython-input-1-77e1b3316eb4>(8)<module>()\n",
    "      6 product = 1\n",
    "      7 i = a\n",
    "----> 8 while i<b:\n",
    "      9     pdb.set_trace()\n",
    "     10     if i%2 == 0:\n",
    "\n",
    "ipdb> n\n",
    "> <ipython-input-1-77e1b3316eb4>(9)<module>()\n",
    "      7 i = a\n",
    "      8 while i<b:\n",
    "----> 9     pdb.set_trace()\n",
    "     10     if i%2 == 0:\n",
    "     11         product *= i\n",
    "\n",
    "ipdb> n\n",
    "> <ipython-input-1-77e1b3316eb4>(10)<module>()\n",
    "      8 while i<b:\n",
    "      9     pdb.set_trace()\n",
    "---> 10     if i%2 == 0:\n",
    "     11         product *= i\n",
    "     12     i+=1\n",
    "\n",
    "ipdb> p i\n",
    "6\n",
    "ipdb> p a\n",
    "5\n",
    "ipdb> p b\n",
    "7\n",
    "ipdb> n\n",
    "> <ipython-input-1-77e1b3316eb4>(11)<module>()\n",
    "      9     pdb.set_trace()\n",
    "     10     if i%2 == 0:\n",
    "---> 11         product *= i\n",
    "     12     i+=1\n",
    "     13 print(product)\n",
    "\n"
   ]
  },
  {
   "cell_type": "markdown",
   "metadata": {},
   "source": [
    "<!-- END QUESTION -->\n",
    "\n",
    "<!-- BEGIN QUESTION -->\n",
    "\n",
    "## Part IV&nbsp;&nbsp;&nbsp;&nbsp;&nbsp;&nbsp;(50 Points)"
   ]
  },
  {
   "cell_type": "raw",
   "metadata": {
    "tags": []
   },
   "source": [
    "# Write your shell commands here\n",
    "\n",
    "#1\n",
    "mkdir part_iv\n",
    "cd part_iv\n",
    "git init\n",
    "\n",
    "#2\n",
    "touch README.md\n",
    "touch LICENSE\n",
    "mkdir directory1\n",
    "cd  directory1\n",
    "mkdir directory2\n",
    "touch directory2/file1\n",
    "cd ..\n",
    "mkdir directory3\n",
    "touch directory3/file2\n",
    "touch directory3/file3\n",
    "mkdir directory4\n",
    "touch directory4/file4\n",
    "\n",
    "#3\n",
    "git add .\n",
    "git commit -m \"commit\"\n",
    "\n",
    "#4\n",
    "git checkout -b newfeature\n",
    "\n",
    "#5\n",
    "mv directory3 directory1\n",
    "rm -r directory4/directory1_copy/directory2\n",
    "y\n",
    "y\n",
    "y\n",
    "rm directory4/file4\n",
    "y\n",
    "rm directory4/directory1_copy/directory3/file3\n",
    "y\n",
    "\n",
    "#6\n",
    "git add .\n",
    "git commit -m \"new branch\"\n",
    "git checkout master\n",
    "git checkout -b newfeature2\n",
    "\n",
    "#7\n",
    "mv directory3 directory1\n",
    "rm -r directory1/directory2\n",
    "y\n",
    "y\n",
    "y\n",
    "mv directory1/directory3/file3 directory1/directory3/file1\n",
    "mv directory4/file4 directory4/newfile1\n",
    "\n",
    "#8\n",
    "git add .\n",
    "git commit -m \"branch2\"\n",
    "git checkout newfeature\n",
    "git merge newfeature2\n",
    "git add .\n",
    "git commit -m \"merge\"\n",
    "git push"
   ]
  },
  {
   "cell_type": "markdown",
   "metadata": {},
   "source": [
    "Your solution to this question should **also** include a file, submitted alongside this notebook."
   ]
  },
  {
   "cell_type": "markdown",
   "metadata": {},
   "source": [
    "<!-- END QUESTION -->\n",
    "\n"
   ]
  }
 ],
 "metadata": {
  "celltoolbar": "Edit Metadata",
  "kernelspec": {
   "display_name": "Python 3",
   "language": "python",
   "name": "python3"
  },
  "language_info": {
   "codemirror_mode": {
    "name": "ipython",
    "version": 3
   },
   "file_extension": ".py",
   "mimetype": "text/x-python",
   "name": "python",
   "nbconvert_exporter": "python",
   "pygments_lexer": "ipython3",
   "version": "3.6.13"
  },
  "varInspector": {
   "cols": {
    "lenName": 16,
    "lenType": 16,
    "lenVar": 40
   },
   "kernels_config": {
    "python": {
     "delete_cmd_postfix": "",
     "delete_cmd_prefix": "del ",
     "library": "var_list.py",
     "varRefreshCmd": "print(var_dic_list())"
    },
    "r": {
     "delete_cmd_postfix": ") ",
     "delete_cmd_prefix": "rm(",
     "library": "var_list.r",
     "varRefreshCmd": "cat(var_dic_list()) "
    }
   },
   "types_to_exclude": [
    "module",
    "function",
    "builtin_function_or_method",
    "instance",
    "_Feature"
   ],
   "window_display": false
  }
 },
 "nbformat": 4,
 "nbformat_minor": 4
}
